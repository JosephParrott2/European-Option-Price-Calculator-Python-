{
 "cells": [
  {
   "cell_type": "code",
   "execution_count": 1,
   "metadata": {},
   "outputs": [],
   "source": [
    "from math import exp, log, pi, sqrt"
   ]
  },
  {
   "cell_type": "code",
   "execution_count": 37,
   "metadata": {},
   "outputs": [],
   "source": [
    "def norm_pdf(X):\n",
    "    \"\"\"\n",
    "    Standard normal probability density function\n",
    "    \"\"\"\n",
    "    \n",
    "    return (1/(2 * pi) ** 2) * exp(-0.5 * X * X)"
   ]
  },
  {
   "cell_type": "code",
   "execution_count": 30,
   "metadata": {},
   "outputs": [],
   "source": [
    "def norm_cdf(X):\n",
    "    \"\"\"\n",
    "    An approximation to the cumulative distribution function for the normal\n",
    "    standard distribution:\n",
    "    \"\"\"\n",
    "    k = 1 / (1 + (0.2316419 * X))\n",
    "    \n",
    "    k_sum = k * (-0.319381530  - (0.356563782 * k) + (1.781477937 * k * k) - (1.821255978 * k * k * k) + (1.330274429 * k * k * k * k))\n",
    "    \n",
    "    if X >= 0.0:\n",
    "        \n",
    "        return (1.0 - (1.0 / ((2 * pi)**0.5)) * exp(-0.5 * X * X) * k_sum)\n",
    "    \n",
    "    else:\n",
    "        return 1.0 - norm_cdf(-X)"
   ]
  },
  {
   "cell_type": "code",
   "execution_count": 18,
   "metadata": {},
   "outputs": [],
   "source": [
    "def d_j(j, S, K, r, v, T):\n",
    "    \n",
    "    return (log(S/K) + (r + ((-1)**(j-1))*0.5*v*v)*T)/(v*(T**0.5))"
   ]
  },
  {
   "cell_type": "code",
   "execution_count": 40,
   "metadata": {
    "scrolled": true
   },
   "outputs": [
    {
     "data": {
      "text/plain": [
       "0.7144219558508293"
      ]
     },
     "execution_count": 40,
     "metadata": {},
     "output_type": "execute_result"
    }
   ],
   "source": [
    "d_j(2,52,50,0.05,0.12,1/2)"
   ]
  },
  {
   "cell_type": "code",
   "execution_count": 14,
   "metadata": {},
   "outputs": [],
   "source": [
    "def vanilla_call_price(S, K, r, v, T):\n",
    "    # S = share price, K = strike price, r = risk-free rate, T = time to maturity, v = volatility\n",
    "    \n",
    "    return S * norm_cdf(d_j(1, S, K, r, v, T)) - K*exp(-r*T) * norm_cdf(d_j(2, S, K, r, v, T))"
   ]
  },
  {
   "cell_type": "code",
   "execution_count": 44,
   "metadata": {},
   "outputs": [],
   "source": [
    "def vanilla_put_price(S, K, r, v, T):\n",
    "    # S = share price, K = strike price, r = risk-free rate, T = time to maturity, v = volatility\n",
    "    \n",
    "    return -S * norm_cdf(-d_j(1, S, K, r, v, T)) + K*exp(-r*T) * norm_cdf(-d_j(2, S, K, r, v, T))"
   ]
  },
  {
   "cell_type": "code",
   "execution_count": 66,
   "metadata": {},
   "outputs": [],
   "source": [
    "call_prices = []\n",
    "\n",
    "for x in range(10,20,1):\n",
    "    \n",
    "    call_prices.append(vanilla_call_price(55,50,0.05,x/10,1/2))\n",
    "\n",
    "volatilities = list(range(10,20,1))"
   ]
  },
  {
   "cell_type": "code",
   "execution_count": 68,
   "metadata": {},
   "outputs": [
    {
     "data": {
      "text/plain": [
       "[<matplotlib.lines.Line2D at 0x14119aa3708>]"
      ]
     },
     "execution_count": 68,
     "metadata": {},
     "output_type": "execute_result"
    },
    {
     "data": {
      "image/png": "[encoded data removed]",
      "text/plain": [
       "<Figure size 432x288 with 1 Axes>"
      ]
     },
     "metadata": {
      "needs_background": "light"
     },
     "output_type": "display_data"
    }
   ],
   "source": [
    "import matplotlib.pyplot as plt\n",
    "\n",
    "plt.plot(volatilities,call_prices)"
   ]
  },
  {
   "cell_type": "code",
   "execution_count": null,
   "metadata": {},
   "outputs": [],
   "source": []
  }
 ],
 "metadata": {
  "kernelspec": {
   "display_name": "Python 3",
   "language": "python",
   "name": "python3"
  },
  "language_info": {
   "codemirror_mode": {
    "name": "ipython",
    "version": 3
   },
   "file_extension": ".py",
   "mimetype": "text/x-python",
   "name": "python",
   "nbconvert_exporter": "python",
   "pygments_lexer": "ipython3",
   "version": "3.7.6"
  }
 },
 "nbformat": 4,
 "nbformat_minor": 4
}
